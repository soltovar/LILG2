{
  "nbformat": 4,
  "nbformat_minor": 0,
  "metadata": {
    "colab": {
      "provenance": []
    },
    "kernelspec": {
      "name": "python3",
      "display_name": "Python 3"
    },
    "language_info": {
      "name": "python"
    }
  },
  "cells": [
    {
      "cell_type": "markdown",
      "source": [
        "# **1. Install dependencies**"
      ],
      "metadata": {
        "id": "lLWWnUpRg5FX"
      }
    },
    {
      "cell_type": "code",
      "source": [
        "!pip install -q transformers torch"
      ],
      "metadata": {
        "id": "AhCsjC8ig5ta"
      },
      "execution_count": null,
      "outputs": []
    },
    {
      "cell_type": "markdown",
      "source": [
        "# **2. Import libraries**"
      ],
      "metadata": {
        "id": "QO0OmQtBg7SW"
      }
    },
    {
      "cell_type": "code",
      "source": [
        "import torch\n",
        "from transformers import BertTokenizer, BertModel"
      ],
      "metadata": {
        "id": "WmDPJXtng9v7"
      },
      "execution_count": null,
      "outputs": []
    },
    {
      "cell_type": "markdown",
      "source": [
        "# **3. Load a pretrained BERT model & tokenizer** (bert-base-uncased)"
      ],
      "metadata": {
        "id": "kFOXqmTNg_9L"
      }
    },
    {
      "cell_type": "code",
      "source": [
        "model_name = \"bert-base-uncased\"\n",
        "\n",
        "tokenizer = BertTokenizer.from_pretrained(model_name)\n",
        "model = BertModel.from_pretrained(model_name)\n"
      ],
      "metadata": {
        "id": "YywlqhTjhEgz"
      },
      "execution_count": null,
      "outputs": []
    },
    {
      "cell_type": "markdown",
      "source": [
        "# **4. Prepare some text**"
      ],
      "metadata": {
        "id": "xSnTEioBhJMK"
      }
    },
    {
      "cell_type": "code",
      "source": [
        "text = \"INSERT TEXT TO ANALYSE HERE\""
      ],
      "metadata": {
        "id": "DEdeS3QkhMpj"
      },
      "execution_count": null,
      "outputs": []
    },
    {
      "cell_type": "markdown",
      "source": [
        "# **5. Run through BERT**"
      ],
      "metadata": {
        "id": "LbxgmYNjhUi3"
      }
    },
    {
      "cell_type": "code",
      "source": [
        "from transformers import pipeline\n",
        "\n",
        "classifier = pipeline(\"sentiment-analysis\",\n",
        "                      model=\"distilbert-base-uncased-finetuned-sst-2-english\")\n",
        "\n",
        "result = classifier(text)\n",
        "print(result)\n"
      ],
      "metadata": {
        "id": "eYR6BbY8i4Xz"
      },
      "execution_count": null,
      "outputs": []
    }
  ]
}
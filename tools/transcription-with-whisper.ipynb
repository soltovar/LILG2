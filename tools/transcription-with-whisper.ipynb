{
  "nbformat": 4,
  "nbformat_minor": 0,
  "metadata": {
    "colab": {
      "provenance": [],
      "gpuType": "T4"
    },
    "kernelspec": {
      "name": "python3",
      "display_name": "Python 3"
    },
    "language_info": {
      "name": "python"
    },
    "accelerator": "GPU"
  },
  "cells": [
    {
      "cell_type": "code",
      "execution_count": null,
      "metadata": {
        "id": "V76LTcbDeIZC",
        "collapsed": true
      },
      "outputs": [],
      "source": [
        "pip install -U openai-whisper"
      ]
    },
    {
      "cell_type": "code",
      "source": [
        "!sudo apt update && sudo apt install ffmpeg"
      ],
      "metadata": {
        "id": "Hab496jHfFvF",
        "collapsed": true
      },
      "execution_count": null,
      "outputs": []
    },
    {
      "cell_type": "markdown",
      "source": [
        "To run whisper to transcribe your audios use the code:\n",
        "\n",
        "```\n",
        "!whisper \"[insert audio file path here]\" --language English --model turbo\n",
        "```\n",
        "\n"
      ],
      "metadata": {
        "id": "BO5n8k0Gwx1W"
      }
    },
    {
      "cell_type": "markdown",
      "source": [
        "To remove files from the content folder use the code\n",
        "\n",
        "\n",
        "```\n",
        "!rm -rf /content/*\n",
        "```\n",
        "\n"
      ],
      "metadata": {
        "id": "Dc1B8vdax2Nf"
      }
    },
    {
      "cell_type": "markdown",
      "source": [
        "To export all .srt and .txt files use the code\n",
        "\n",
        "```\n",
        "import zipfile\n",
        "import os\n",
        "from google.colab import files\n",
        "\n",
        "# Create a ZIP file containing all .srt and .txt files in /content\n",
        "zip_filename = \"srt_and_txt_files.zip\"\n",
        "with zipfile.ZipFile(zip_filename, 'w') as zipf:\n",
        "    for filename in os.listdir('/content'):\n",
        "        if filename.endswith('.srt') or filename.endswith('.txt'):\n",
        "            zipf.write(os.path.join('/content', filename), arcname=filename)\n",
        "\n",
        "# Download the ZIP file\n",
        "files.download(zip_filename)\n",
        "```\n",
        "\n"
      ],
      "metadata": {
        "id": "cSyWvd89qv9J"
      }
    },
    {
      "cell_type": "code",
      "source": [
        "import os\n",
        "\n",
        "# Set your working directory\n",
        "audio_dir = \"/content\"\n",
        "\n",
        "# Loop through audio files\n",
        "for filename in os.listdir(audio_dir):\n",
        "    if filename.endswith((\".mp3\")):\n",
        "        audio_path = os.path.join(audio_dir, filename)\n",
        "\n",
        "        # Expected output SRT filename (adjust if needed)\n",
        "        srt_output = os.path.splitext(filename)[0] + \".srt\"\n",
        "        srt_path = os.path.join(audio_dir, srt_output)\n",
        "\n",
        "        # Skip if already transcribed\n",
        "        if os.path.exists(srt_path):\n",
        "            print(f\"Already transcribed: {filename}\")\n",
        "            continue\n",
        "\n",
        "        # Transcribe with Whisper\n",
        "        print(f\"Transcribing: {filename}\")\n",
        "        !whisper \"{audio_path}\" --language English --model turbo"
      ],
      "metadata": {
        "id": "LeL8En6rrVmd"
      },
      "execution_count": null,
      "outputs": []
    },
    {
      "cell_type": "code",
      "source": [
        "import zipfile\n",
        "import os\n",
        "from google.colab import files\n",
        "\n",
        "# Create a ZIP file containing all .srt and .txt files in /content\n",
        "zip_filename = \"srt_and_txt_files.zip\"\n",
        "with zipfile.ZipFile(zip_filename, 'w') as zipf:\n",
        "    for filename in os.listdir('/content'):\n",
        "        if filename.endswith('.srt') or filename.endswith('.txt'):\n",
        "            zipf.write(os.path.join('/content', filename), arcname=filename)\n",
        "\n",
        "# Download the ZIP file\n",
        "files.download(zip_filename)"
      ],
      "metadata": {
        "id": "gg_Y-6WSCArm"
      },
      "execution_count": null,
      "outputs": []
    },
    {
      "cell_type": "code",
      "source": [
        "!rm -rf /content/*"
      ],
      "metadata": {
        "id": "oIxnSb18CZuv"
      },
      "execution_count": null,
      "outputs": []
    }
  ]
}